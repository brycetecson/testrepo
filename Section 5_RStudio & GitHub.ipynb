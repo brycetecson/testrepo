{
 "cells": [
  {
   "cell_type": "markdown",
   "metadata": {},
   "source": [
    "# RStudio and GitHub"
   ]
  },
  {
   "cell_type": "markdown",
   "metadata": {},
   "source": [
    "## Intro to R and RStudio\n",
    "- What is R?\n",
    "    - Statistical programming language\n",
    "    - Used for data processing and manipulation\n",
    "    - Statistical, data analysis, and machine learning\n",
    "    - R is used most by academics, healthcare, and gov't\n",
    "    - R supports importing data from different sources: flat files, databases, web, statistical software\n",
    "- R capabilities\n",
    "    - easy to use compared to other data science tools\n",
    "    - Great tool for visualization\n",
    "    - Basic data analysis doesn't require installing packages\n",
    "- What is RStudio\n",
    "    - RStudio is an integrated development environment (IDE)\n",
    "    - It increases productivity in running R programming language\n",
    "    - Code editor, console for typing R commands, workspace and history tab, files plots packages help tabs\n",
    "- Tabs in RStudio\n",
    "    - Files\n",
    "    - Plots\n",
    "    - Packages\n",
    "    - Help\n",
    "    - Viewer\n",
    "- Popular R libraries for Data science\n",
    "    - dplyr (data manipulation)\n",
    "    - stringr (string manipulation)\n",
    "    - ggplot (data visualization)\n",
    "    - caret (machine learning)\n",
    "- Recap\n",
    "    - capabilities of R and its uses in data science\n",
    "    - RStudio interface for running R codes\n",
    "    - Popular R packages for Data Science"
   ]
  },
  {
   "cell_type": "markdown",
   "metadata": {},
   "source": [
    "## Downloading R\n",
    "- Download R: https://cran.r-project.org/bin/windows/base/\n",
    "- Download RStudio: https://posit.co/download/rstudio-desktop/\n"
   ]
  },
  {
   "cell_type": "markdown",
   "metadata": {},
   "source": [
    "## R Basics with RStudio\n",
    "- can type commands (e.g., print) directly in console\n",
    "    - run by hitting Enter\n",
    "    - Clear console: ctrl+L\n",
    "- can create objects / variables and they will be saved in environment panel\n",
    "    - to clean workspace, click Broom icon\n",
    "- two methods of running code:\n",
    "    - Highlight code and click Run\n",
    "    - Click \"Source\" to run full script"
   ]
  },
  {
   "cell_type": "markdown",
   "metadata": {},
   "source": [
    "## Plotting in RStudio\n",
    "- Using data visualization in R\n",
    "    - to install packages, use command: install.packages <package name>\n",
    "    - packages are:\n",
    "        - ggplot: histograms, bar charts, scatterplots\n",
    "        - Plotly: Web-based data visualizations that can be displayed or saved as individual HTML files\n",
    "        - Lattice: complex, multi-variable data sets (can handle graphics without customizations)\n",
    "        - Leaflet: Interactive plots\n",
    "- Using plot function\n",
    "    - e.g., define cars vector with 5 values and graph\n",
    "        - cars c(1,4,6,5,10)\n",
    "        - plot(cars) -> scatterplot with index in x axis and value on y axis\n",
    "        - plot(cars, type = \"o\") -> graph cars vector with all defaults (adds line)\n",
    "        - title(main=\"Cars vs Index\"): create a title\n",
    "- Using ggplot\n",
    "    - ggplot adds layers of functions and arguments\n",
    "    - code:\n",
    "        - library(ggplot2)\n",
    "        - ggplot(mtcars, aes(x=mpg, y=wt))+geom_point()\n",
    "- Adding titles to plot\n",
    "    - ggplot(mtcars, aes(x=mpg, y-wt))+geom_point()+ggtitle(\"miles per gallon vs weight\") + labs(y=\"weight\", x=\"Miles per gallon\")\n",
    "- GGally extends ggplot by adding several functions to reduce complexity of combining geometric objects with transformed data\n",
    "- Recap:\n",
    "    - Popular data visualization packages in R\n",
    "    - Plotting with inbuilt R plot function\n",
    "    - Plotting with ggplot\n",
    "    - Adding titles and changing the axis names using ggtitle and lab's function\n",
    "    \n"
   ]
  },
  {
   "cell_type": "markdown",
   "metadata": {},
   "source": [
    "## Getting started with R\n",
    "- View(data_name): shows dataset\n",
    "- unique(data_frame$column_name): returns list of unique values from column\n",
    "- install.packages(\"GGally\", repos = \"https://cran.r-project.org\", type = \"source\") : install packages"
   ]
  },
  {
   "cell_type": "markdown",
   "metadata": {},
   "source": [
    "## Creating data visualizations with ggplot\n",
    "- ?mtcars: returns info on dataset\n",
    "- ggplot(aes(x=disp,y=mpg,),data=mtcars)+geom_point(): scatter plot\n",
    "- ggplot(aes(x=disp,y=mpg,),data=mtcars)+geom_point()+ggtitle(\"displacement vs miles per gallon\"): scatter plot with title\n",
    "- ggplot(aes(x=disp,y=mpg,),data=mtcars)+geom_point()+ggtitle(\"displacement vs miles per gallon\") + labs(x = \"Displacement\", y = \"Miles per Gallon\"): change name of x axis and y axis\n",
    "- mtcars$vs <- as.factor(mtcars$vs): make column vs a string or a factor (needed to create boxplot)\n",
    "- ggplot(aes(x=vs, y=mpg), data = mtcars) + geom_boxplot(): boxplot\n",
    "- ggplot(aes(x=vs, y=mpg, fill = vs), data = mtcars) + \n",
    "  geom_boxplot(alpha=0.3) +\n",
    "  theme(legend.position=\"none\"): Add color to boxplot\n",
    "- ggplot(aes(x=wt),data=mtcars) + geom_histogram(binwidth=0.5): histogram of weight\n"
   ]
  },
  {
   "cell_type": "markdown",
   "metadata": {},
   "source": [
    "## Plotting with RStudio\n",
    "- ggpairs(iris, mapping=ggplot2::aes(colour = Species))\n",
    "\n"
   ]
  },
  {
   "cell_type": "markdown",
   "metadata": {},
   "source": [
    "# **GitHub**"
   ]
  },
  {
   "cell_type": "markdown",
   "metadata": {},
   "source": [
    "## Overview of Git/GitHub\n",
    "- Version Control\n",
    "    - keep track of changes to docs\n",
    "    - recover older versions of docs, makes collab easier\n",
    "- Git\n",
    "    - Free and open source software\n",
    "    - Distributed version control system\n",
    "    - Accessible anywhere in world\n",
    "    - one of most common version control systems availabe\n",
    "    - can also version control images, docs, etc.\n",
    "    - can run Git through command line but GitHub interface more common\n",
    "- SHORT Glossary of terms\n",
    "    - SSH protocol: method for secure remote login from one computer to another\n",
    "    - Repository: folders of your project that are set up for version control\n",
    "    - Fork: copy of a repository\n",
    "    - Pull request: process you use to request that someone reviews and approves your changes before they become final\n",
    "    - Working directory: directory on your file system, including its files and subdirectories, that is associated with git repository\n",
    "- Basic Git Commands\n",
    "    - init: create new repository locally and push to GitHub or by cloning existing repository\n",
    "    - add: moves changes from working directory to staging area\n",
    "    - status: see state of working directory and snapshot of changes\n",
    "    - commit: takes staged snapshot of changes and commits them to project\n",
    "    - reset: undoes changes that you've made to files in your working directory\n",
    "    - log: enables browse of previous changes\n",
    "    - branch: isolated environment to make changes\n",
    "    - checkout: see and change existing branches\n",
    "    - merge: put everything back together again\n",
    "- https://try.github.io/\n",
    "    - resources to help get started"
   ]
  },
  {
   "cell_type": "markdown",
   "metadata": {},
   "source": []
  }
 ],
 "metadata": {
  "language_info": {
   "name": "python"
  }
 },
 "nbformat": 4,
 "nbformat_minor": 2
}
